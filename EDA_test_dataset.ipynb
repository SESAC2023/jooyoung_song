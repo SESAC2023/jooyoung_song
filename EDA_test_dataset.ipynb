{
 "cells": [
  {
   "cell_type": "code",
   "execution_count": 15,
   "id": "a947d651",
   "metadata": {},
   "outputs": [
    {
     "data": {
      "text/html": [
       "<div>\n",
       "<style scoped>\n",
       "    .dataframe tbody tr th:only-of-type {\n",
       "        vertical-align: middle;\n",
       "    }\n",
       "\n",
       "    .dataframe tbody tr th {\n",
       "        vertical-align: top;\n",
       "    }\n",
       "\n",
       "    .dataframe thead th {\n",
       "        text-align: right;\n",
       "    }\n",
       "</style>\n",
       "<table border=\"1\" class=\"dataframe\">\n",
       "  <thead>\n",
       "    <tr style=\"text-align: right;\">\n",
       "      <th></th>\n",
       "      <th>0</th>\n",
       "      <th>1</th>\n",
       "      <th>2</th>\n",
       "      <th>3</th>\n",
       "      <th>4</th>\n",
       "      <th>5</th>\n",
       "      <th>6</th>\n",
       "      <th>7</th>\n",
       "      <th>8</th>\n",
       "      <th>9</th>\n",
       "      <th>10</th>\n",
       "      <th>11</th>\n",
       "      <th>12</th>\n",
       "    </tr>\n",
       "  </thead>\n",
       "  <tbody>\n",
       "    <tr>\n",
       "      <th>0</th>\n",
       "      <td>index</td>\n",
       "      <td>comment</td>\n",
       "      <td>선호도</td>\n",
       "      <td>비속어</td>\n",
       "      <td>성</td>\n",
       "      <td>정치</td>\n",
       "      <td>국가</td>\n",
       "      <td>인종</td>\n",
       "      <td>지역</td>\n",
       "      <td>세대</td>\n",
       "      <td>사회계층</td>\n",
       "      <td>외모</td>\n",
       "      <td>기타</td>\n",
       "    </tr>\n",
       "    <tr>\n",
       "      <th>1</th>\n",
       "      <td>998</td>\n",
       "      <td>씹슬람은 진짜 인간이 아니야</td>\n",
       "      <td>0</td>\n",
       "      <td>1</td>\n",
       "      <td>NaN</td>\n",
       "      <td>NaN</td>\n",
       "      <td>1</td>\n",
       "      <td>1</td>\n",
       "      <td>NaN</td>\n",
       "      <td>NaN</td>\n",
       "      <td>NaN</td>\n",
       "      <td>NaN</td>\n",
       "      <td>NaN</td>\n",
       "    </tr>\n",
       "    <tr>\n",
       "      <th>2</th>\n",
       "      <td>12</td>\n",
       "      <td>캬 국뽕차오르네</td>\n",
       "      <td>4</td>\n",
       "      <td>0</td>\n",
       "      <td>NaN</td>\n",
       "      <td>NaN</td>\n",
       "      <td>1</td>\n",
       "      <td>NaN</td>\n",
       "      <td>NaN</td>\n",
       "      <td>NaN</td>\n",
       "      <td>NaN</td>\n",
       "      <td>NaN</td>\n",
       "      <td>NaN</td>\n",
       "    </tr>\n",
       "    <tr>\n",
       "      <th>3</th>\n",
       "      <td>192</td>\n",
       "      <td>이 나라는 무인 편의점에서 절도가 일상인데 저러면 감동이지</td>\n",
       "      <td>3</td>\n",
       "      <td>0</td>\n",
       "      <td>NaN</td>\n",
       "      <td>NaN</td>\n",
       "      <td>1</td>\n",
       "      <td>NaN</td>\n",
       "      <td>NaN</td>\n",
       "      <td>NaN</td>\n",
       "      <td>NaN</td>\n",
       "      <td>NaN</td>\n",
       "      <td>NaN</td>\n",
       "    </tr>\n",
       "    <tr>\n",
       "      <th>4</th>\n",
       "      <td>227</td>\n",
       "      <td>또 국뽕이 처맞고 있노 ㅎㅎ 기분 좋노</td>\n",
       "      <td>3</td>\n",
       "      <td>1</td>\n",
       "      <td>NaN</td>\n",
       "      <td>NaN</td>\n",
       "      <td>1</td>\n",
       "      <td>NaN</td>\n",
       "      <td>NaN</td>\n",
       "      <td>NaN</td>\n",
       "      <td>NaN</td>\n",
       "      <td>NaN</td>\n",
       "      <td>NaN</td>\n",
       "    </tr>\n",
       "  </tbody>\n",
       "</table>\n",
       "</div>"
      ],
      "text/plain": [
       "      0                                 1    2    3    4    5   6    7    8   \\\n",
       "0  index                           comment  선호도  비속어    성   정치  국가   인종   지역   \n",
       "1    998                   씹슬람은 진짜 인간이 아니야    0    1  NaN  NaN   1    1  NaN   \n",
       "2     12                          캬 국뽕차오르네    4    0  NaN  NaN   1  NaN  NaN   \n",
       "3    192  이 나라는 무인 편의점에서 절도가 일상인데 저러면 감동이지    3    0  NaN  NaN   1  NaN  NaN   \n",
       "4    227             또 국뽕이 처맞고 있노 ㅎㅎ 기분 좋노    3    1  NaN  NaN   1  NaN  NaN   \n",
       "\n",
       "    9     10   11   12  \n",
       "0   세대  사회계층   외모   기타  \n",
       "1  NaN   NaN  NaN  NaN  \n",
       "2  NaN   NaN  NaN  NaN  \n",
       "3  NaN   NaN  NaN  NaN  \n",
       "4  NaN   NaN  NaN  NaN  "
      ]
     },
     "execution_count": 15,
     "metadata": {},
     "output_type": "execute_result"
    }
   ],
   "source": [
    "import pandas as pd\n",
    "import numpy as np\n",
    "\n",
    "df = pd.read_csv(\"final_comments - test_dataset.csv\", header=None)\n",
    "df.head()"
   ]
  },
  {
   "cell_type": "code",
   "execution_count": 16,
   "id": "17385a09",
   "metadata": {},
   "outputs": [
    {
     "name": "stdout",
     "output_type": "stream",
     "text": [
      "<class 'pandas.core.frame.DataFrame'>\n",
      "RangeIndex: 2001 entries, 1 to 2001\n",
      "Data columns (total 12 columns):\n",
      " #   Column  Non-Null Count  Dtype \n",
      "---  ------  --------------  ----- \n",
      " 0   1       2001 non-null   object\n",
      " 1   2       2001 non-null   object\n",
      " 2   3       1536 non-null   object\n",
      " 3   4       219 non-null    object\n",
      " 4   5       126 non-null    object\n",
      " 5   6       107 non-null    object\n",
      " 6   7       153 non-null    object\n",
      " 7   8       111 non-null    object\n",
      " 8   9       114 non-null    object\n",
      " 9   10      115 non-null    object\n",
      " 10  11      104 non-null    object\n",
      " 11  12      232 non-null    object\n",
      "dtypes: object(12)\n",
      "memory usage: 187.7+ KB\n"
     ]
    }
   ],
   "source": [
    "# 첫 행 삭제\n",
    "df = df.drop(0)\n",
    "\n",
    "# 첫 열 삭제\n",
    "df.drop(df.columns[0], axis=1, inplace = True)\n",
    "\n",
    "df.info()"
   ]
  },
  {
   "cell_type": "code",
   "execution_count": 17,
   "id": "569fc2f8",
   "metadata": {},
   "outputs": [
    {
     "data": {
      "text/html": [
       "<div>\n",
       "<style scoped>\n",
       "    .dataframe tbody tr th:only-of-type {\n",
       "        vertical-align: middle;\n",
       "    }\n",
       "\n",
       "    .dataframe tbody tr th {\n",
       "        vertical-align: top;\n",
       "    }\n",
       "\n",
       "    .dataframe thead th {\n",
       "        text-align: right;\n",
       "    }\n",
       "</style>\n",
       "<table border=\"1\" class=\"dataframe\">\n",
       "  <thead>\n",
       "    <tr style=\"text-align: right;\">\n",
       "      <th></th>\n",
       "      <th>1</th>\n",
       "      <th>2</th>\n",
       "      <th>3</th>\n",
       "      <th>4</th>\n",
       "      <th>5</th>\n",
       "      <th>6</th>\n",
       "      <th>7</th>\n",
       "      <th>8</th>\n",
       "      <th>9</th>\n",
       "      <th>10</th>\n",
       "      <th>11</th>\n",
       "      <th>12</th>\n",
       "    </tr>\n",
       "  </thead>\n",
       "  <tbody>\n",
       "    <tr>\n",
       "      <th>1997</th>\n",
       "      <td>일단 부산 제외하고 ㅋㅋㅋ 청정 지역에서 수입이 증가했다는 얘기고 경상도는 원래 마...</td>\n",
       "      <td>2</td>\n",
       "      <td>0</td>\n",
       "      <td>NaN</td>\n",
       "      <td>NaN</td>\n",
       "      <td>NaN</td>\n",
       "      <td>NaN</td>\n",
       "      <td>1</td>\n",
       "      <td>NaN</td>\n",
       "      <td>NaN</td>\n",
       "      <td>NaN</td>\n",
       "      <td>NaN</td>\n",
       "    </tr>\n",
       "    <tr>\n",
       "      <th>1998</th>\n",
       "      <td>마츠 타카코 아줌마 노무 이쁘다</td>\n",
       "      <td>3</td>\n",
       "      <td>NaN</td>\n",
       "      <td>NaN</td>\n",
       "      <td>NaN</td>\n",
       "      <td>NaN</td>\n",
       "      <td>NaN</td>\n",
       "      <td>NaN</td>\n",
       "      <td>NaN</td>\n",
       "      <td>NaN</td>\n",
       "      <td>1</td>\n",
       "      <td>NaN</td>\n",
       "    </tr>\n",
       "    <tr>\n",
       "      <th>1999</th>\n",
       "      <td>알랭드롱은 진심 전세계 올타임 넘버원 같음</td>\n",
       "      <td>4</td>\n",
       "      <td>NaN</td>\n",
       "      <td>NaN</td>\n",
       "      <td>NaN</td>\n",
       "      <td>NaN</td>\n",
       "      <td>NaN</td>\n",
       "      <td>NaN</td>\n",
       "      <td>NaN</td>\n",
       "      <td>NaN</td>\n",
       "      <td>NaN</td>\n",
       "      <td>NaN</td>\n",
       "    </tr>\n",
       "    <tr>\n",
       "      <th>2000</th>\n",
       "      <td>나 꾸추가 이상해</td>\n",
       "      <td>2</td>\n",
       "      <td>NaN</td>\n",
       "      <td>1</td>\n",
       "      <td>NaN</td>\n",
       "      <td>NaN</td>\n",
       "      <td>NaN</td>\n",
       "      <td>NaN</td>\n",
       "      <td>NaN</td>\n",
       "      <td>NaN</td>\n",
       "      <td>NaN</td>\n",
       "      <td>NaN</td>\n",
       "    </tr>\n",
       "    <tr>\n",
       "      <th>2001</th>\n",
       "      <td>장동건이 스포츠하면 안어울릴거같은데 원빈은 이것도 어울림 개잘생겼어 ㅋㅋ</td>\n",
       "      <td>4</td>\n",
       "      <td>1</td>\n",
       "      <td>NaN</td>\n",
       "      <td>NaN</td>\n",
       "      <td>NaN</td>\n",
       "      <td>NaN</td>\n",
       "      <td>NaN</td>\n",
       "      <td>NaN</td>\n",
       "      <td>NaN</td>\n",
       "      <td>4</td>\n",
       "      <td>NaN</td>\n",
       "    </tr>\n",
       "  </tbody>\n",
       "</table>\n",
       "</div>"
      ],
      "text/plain": [
       "                                                     1  2    3    4    5   \\\n",
       "1997  일단 부산 제외하고 ㅋㅋㅋ 청정 지역에서 수입이 증가했다는 얘기고 경상도는 원래 마...  2    0  NaN  NaN   \n",
       "1998                                  마츠 타카코 아줌마 노무 이쁘다  3  NaN  NaN  NaN   \n",
       "1999                            알랭드롱은 진심 전세계 올타임 넘버원 같음  4  NaN  NaN  NaN   \n",
       "2000                                          나 꾸추가 이상해  2  NaN    1  NaN   \n",
       "2001           장동건이 스포츠하면 안어울릴거같은데 원빈은 이것도 어울림 개잘생겼어 ㅋㅋ  4    1  NaN  NaN   \n",
       "\n",
       "       6    7    8    9    10   11   12  \n",
       "1997  NaN  NaN    1  NaN  NaN  NaN  NaN  \n",
       "1998  NaN  NaN  NaN  NaN  NaN    1  NaN  \n",
       "1999  NaN  NaN  NaN  NaN  NaN  NaN  NaN  \n",
       "2000  NaN  NaN  NaN  NaN  NaN  NaN  NaN  \n",
       "2001  NaN  NaN  NaN  NaN  NaN    4  NaN  "
      ]
     },
     "execution_count": 17,
     "metadata": {},
     "output_type": "execute_result"
    }
   ],
   "source": [
    "df.tail()"
   ]
  },
  {
   "cell_type": "code",
   "execution_count": 18,
   "id": "6c7b495f",
   "metadata": {},
   "outputs": [
    {
     "name": "stdout",
     "output_type": "stream",
     "text": [
      "Int64Index([1, 2, 3, 4, 5, 6, 7, 8, 9, 10, 11, 12], dtype='int64')\n"
     ]
    }
   ],
   "source": [
    "print(df.columns)"
   ]
  },
  {
   "cell_type": "code",
   "execution_count": 20,
   "id": "50aa2ab8",
   "metadata": {},
   "outputs": [],
   "source": [
    "df.columns = ['comment', '선호도', '비속어', '성', '정치', '국가', '인종', '지역', '세대', '사회계층', '외모', '기타']"
   ]
  },
  {
   "cell_type": "code",
   "execution_count": 21,
   "id": "6ba8e271",
   "metadata": {},
   "outputs": [
    {
     "name": "stdout",
     "output_type": "stream",
     "text": [
      "<class 'pandas.core.frame.DataFrame'>\n",
      "RangeIndex: 2001 entries, 1 to 2001\n",
      "Data columns (total 12 columns):\n",
      " #   Column   Non-Null Count  Dtype \n",
      "---  ------   --------------  ----- \n",
      " 0   comment  2001 non-null   object\n",
      " 1   선호도      2001 non-null   object\n",
      " 2   비속어      1536 non-null   object\n",
      " 3   성        219 non-null    object\n",
      " 4   정치       126 non-null    object\n",
      " 5   국가       107 non-null    object\n",
      " 6   인종       153 non-null    object\n",
      " 7   지역       111 non-null    object\n",
      " 8   세대       114 non-null    object\n",
      " 9   사회계층     115 non-null    object\n",
      " 10  외모       104 non-null    object\n",
      " 11  기타       232 non-null    object\n",
      "dtypes: object(12)\n",
      "memory usage: 187.7+ KB\n"
     ]
    }
   ],
   "source": [
    "df.info()"
   ]
  },
  {
   "cell_type": "code",
   "execution_count": 22,
   "id": "112a4b79",
   "metadata": {},
   "outputs": [
    {
     "data": {
      "text/plain": [
       "comment    object\n",
       "선호도        object\n",
       "비속어        object\n",
       "성          object\n",
       "정치         object\n",
       "국가         object\n",
       "인종         object\n",
       "지역         object\n",
       "세대         object\n",
       "사회계층       object\n",
       "외모         object\n",
       "기타         object\n",
       "dtype: object"
      ]
     },
     "execution_count": 22,
     "metadata": {},
     "output_type": "execute_result"
    }
   ],
   "source": [
    "df.dtypes"
   ]
  },
  {
   "cell_type": "code",
   "execution_count": 23,
   "id": "fb2a0da1",
   "metadata": {},
   "outputs": [],
   "source": [
    "for col in df.columns[2:]:\n",
    "    df[col] = pd.to_numeric(df[col])\n",
    "\n",
    "# NaN 값을 0으로 채우기\n",
    "df= df.fillna(0)"
   ]
  },
  {
   "cell_type": "code",
   "execution_count": 24,
   "id": "25d87e20",
   "metadata": {},
   "outputs": [
    {
     "data": {
      "text/plain": [
       "comment     object\n",
       "선호도         object\n",
       "비속어        float64\n",
       "성          float64\n",
       "정치         float64\n",
       "국가         float64\n",
       "인종         float64\n",
       "지역         float64\n",
       "세대         float64\n",
       "사회계층       float64\n",
       "외모         float64\n",
       "기타         float64\n",
       "dtype: object"
      ]
     },
     "execution_count": 24,
     "metadata": {},
     "output_type": "execute_result"
    }
   ],
   "source": [
    "df.dtypes"
   ]
  },
  {
   "cell_type": "code",
   "execution_count": 25,
   "id": "a3b8262f",
   "metadata": {},
   "outputs": [
    {
     "data": {
      "text/html": [
       "<div>\n",
       "<style scoped>\n",
       "    .dataframe tbody tr th:only-of-type {\n",
       "        vertical-align: middle;\n",
       "    }\n",
       "\n",
       "    .dataframe tbody tr th {\n",
       "        vertical-align: top;\n",
       "    }\n",
       "\n",
       "    .dataframe thead th {\n",
       "        text-align: right;\n",
       "    }\n",
       "</style>\n",
       "<table border=\"1\" class=\"dataframe\">\n",
       "  <thead>\n",
       "    <tr style=\"text-align: right;\">\n",
       "      <th></th>\n",
       "      <th>comment</th>\n",
       "      <th>선호도</th>\n",
       "      <th>비속어</th>\n",
       "      <th>성</th>\n",
       "      <th>정치</th>\n",
       "      <th>국가</th>\n",
       "      <th>인종</th>\n",
       "      <th>지역</th>\n",
       "      <th>세대</th>\n",
       "      <th>사회계층</th>\n",
       "      <th>외모</th>\n",
       "      <th>기타</th>\n",
       "    </tr>\n",
       "  </thead>\n",
       "  <tbody>\n",
       "    <tr>\n",
       "      <th>1997</th>\n",
       "      <td>일단 부산 제외하고 ㅋㅋㅋ 청정 지역에서 수입이 증가했다는 얘기고 경상도는 원래 마...</td>\n",
       "      <td>2</td>\n",
       "      <td>0.0</td>\n",
       "      <td>0.0</td>\n",
       "      <td>0.0</td>\n",
       "      <td>0.0</td>\n",
       "      <td>0.0</td>\n",
       "      <td>1.0</td>\n",
       "      <td>0.0</td>\n",
       "      <td>0.0</td>\n",
       "      <td>0.0</td>\n",
       "      <td>0.0</td>\n",
       "    </tr>\n",
       "    <tr>\n",
       "      <th>1998</th>\n",
       "      <td>마츠 타카코 아줌마 노무 이쁘다</td>\n",
       "      <td>3</td>\n",
       "      <td>0.0</td>\n",
       "      <td>0.0</td>\n",
       "      <td>0.0</td>\n",
       "      <td>0.0</td>\n",
       "      <td>0.0</td>\n",
       "      <td>0.0</td>\n",
       "      <td>0.0</td>\n",
       "      <td>0.0</td>\n",
       "      <td>1.0</td>\n",
       "      <td>0.0</td>\n",
       "    </tr>\n",
       "    <tr>\n",
       "      <th>1999</th>\n",
       "      <td>알랭드롱은 진심 전세계 올타임 넘버원 같음</td>\n",
       "      <td>4</td>\n",
       "      <td>0.0</td>\n",
       "      <td>0.0</td>\n",
       "      <td>0.0</td>\n",
       "      <td>0.0</td>\n",
       "      <td>0.0</td>\n",
       "      <td>0.0</td>\n",
       "      <td>0.0</td>\n",
       "      <td>0.0</td>\n",
       "      <td>0.0</td>\n",
       "      <td>0.0</td>\n",
       "    </tr>\n",
       "    <tr>\n",
       "      <th>2000</th>\n",
       "      <td>나 꾸추가 이상해</td>\n",
       "      <td>2</td>\n",
       "      <td>0.0</td>\n",
       "      <td>1.0</td>\n",
       "      <td>0.0</td>\n",
       "      <td>0.0</td>\n",
       "      <td>0.0</td>\n",
       "      <td>0.0</td>\n",
       "      <td>0.0</td>\n",
       "      <td>0.0</td>\n",
       "      <td>0.0</td>\n",
       "      <td>0.0</td>\n",
       "    </tr>\n",
       "    <tr>\n",
       "      <th>2001</th>\n",
       "      <td>장동건이 스포츠하면 안어울릴거같은데 원빈은 이것도 어울림 개잘생겼어 ㅋㅋ</td>\n",
       "      <td>4</td>\n",
       "      <td>1.0</td>\n",
       "      <td>0.0</td>\n",
       "      <td>0.0</td>\n",
       "      <td>0.0</td>\n",
       "      <td>0.0</td>\n",
       "      <td>0.0</td>\n",
       "      <td>0.0</td>\n",
       "      <td>0.0</td>\n",
       "      <td>4.0</td>\n",
       "      <td>0.0</td>\n",
       "    </tr>\n",
       "  </tbody>\n",
       "</table>\n",
       "</div>"
      ],
      "text/plain": [
       "                                                comment 선호도  비속어    성   정치  \\\n",
       "1997  일단 부산 제외하고 ㅋㅋㅋ 청정 지역에서 수입이 증가했다는 얘기고 경상도는 원래 마...   2  0.0  0.0  0.0   \n",
       "1998                                  마츠 타카코 아줌마 노무 이쁘다   3  0.0  0.0  0.0   \n",
       "1999                            알랭드롱은 진심 전세계 올타임 넘버원 같음   4  0.0  0.0  0.0   \n",
       "2000                                          나 꾸추가 이상해   2  0.0  1.0  0.0   \n",
       "2001           장동건이 스포츠하면 안어울릴거같은데 원빈은 이것도 어울림 개잘생겼어 ㅋㅋ   4  1.0  0.0  0.0   \n",
       "\n",
       "       국가   인종   지역   세대  사회계층   외모   기타  \n",
       "1997  0.0  0.0  1.0  0.0   0.0  0.0  0.0  \n",
       "1998  0.0  0.0  0.0  0.0   0.0  1.0  0.0  \n",
       "1999  0.0  0.0  0.0  0.0   0.0  0.0  0.0  \n",
       "2000  0.0  0.0  0.0  0.0   0.0  0.0  0.0  \n",
       "2001  0.0  0.0  0.0  0.0   0.0  4.0  0.0  "
      ]
     },
     "execution_count": 25,
     "metadata": {},
     "output_type": "execute_result"
    }
   ],
   "source": [
    "df.tail()"
   ]
  },
  {
   "cell_type": "code",
   "execution_count": 27,
   "id": "3372a2b3",
   "metadata": {
    "scrolled": true
   },
   "outputs": [
    {
     "name": "stdout",
     "output_type": "stream",
     "text": [
      "2    522\n",
      "0    458\n",
      "3    425\n",
      "1    336\n",
      "4    260\n",
      "Name: 선호도, dtype: int64\n",
      "\n",
      "0.0    1004\n",
      "1.0     997\n",
      "Name: 비속어, dtype: int64\n",
      "\n",
      "0.0    1782\n",
      "1.0     219\n",
      "Name: 성, dtype: int64\n",
      "\n",
      "0.0    1875\n",
      "1.0     126\n",
      "Name: 정치, dtype: int64\n",
      "\n",
      "0.0    1894\n",
      "1.0     107\n",
      "Name: 국가, dtype: int64\n",
      "\n",
      "0.0    1848\n",
      "1.0     153\n",
      "Name: 인종, dtype: int64\n",
      "\n",
      "0.0    1890\n",
      "1.0     111\n",
      "Name: 지역, dtype: int64\n",
      "\n",
      "0.0    1887\n",
      "1.0     114\n",
      "Name: 세대, dtype: int64\n",
      "\n",
      "0.0    1886\n",
      "1.0     115\n",
      "Name: 사회계층, dtype: int64\n",
      "\n",
      "0.0    1897\n",
      "1.0     103\n",
      "4.0       1\n",
      "Name: 외모, dtype: int64\n",
      "\n",
      "0.0    1769\n",
      "1.0     232\n",
      "Name: 기타, dtype: int64\n",
      "\n"
     ]
    }
   ],
   "source": [
    "# 각 칼럼별 데이터의 개수 count\n",
    "\n",
    "for col in df.columns[1:]:\n",
    "\n",
    "    counts = df[col].value_counts()\n",
    "    print(counts)\n",
    "    print()"
   ]
  },
  {
   "cell_type": "code",
   "execution_count": 37,
   "id": "ef7d4f66",
   "metadata": {},
   "outputs": [
    {
     "data": {
      "image/png": "[encoded data removed]",
      "text/plain": [
       "<Figure size 800x400 with 1 Axes>"
      ]
     },
     "metadata": {},
     "output_type": "display_data"
    }
   ],
   "source": [
    "#히스토그램 plot\n",
    "import matplotlib.pyplot as plt\n",
    "from matplotlib import font_manager\n",
    "\n",
    "data = [219, 126, 107, 153, 111, 114, 115, 103, 232]\n",
    "labels = ['성', '정치', '국가', '인종', '지역', '세대', '사회계층', '외모', '기타']\n",
    "\n",
    "# 히스토그램 그리기\n",
    "plt.figure(figsize=(8, 4))\n",
    "plt.bar(labels, data, color='blue', alpha=0.7)\n",
    "\n",
    "plt.xlabel('Test dataset')\n",
    "plt.ylabel('count')\n",
    "plt.title('Distribution of Bias')\n",
    "plt.grid(True)\n",
    "\n",
    "plt.show()"
   ]
  },
  {
   "cell_type": "code",
   "execution_count": null,
   "id": "889a66f2",
   "metadata": {
    "scrolled": true
   },
   "outputs": [],
   "source": [
    "bias_count = 0\n",
    "\n",
    "for bias in df.columns[4:]:\n",
    "    bias_count += df[bias].sum()\n",
    "\n",
    "print(\"Total bias count:\", bias_count)\n",
    "print(\"Total bias ratio:\", bias_count / df.shape[0] * 100)"
   ]
  },
  {
   "cell_type": "code",
   "execution_count": 48,
   "id": "3e0a3fb2",
   "metadata": {},
   "outputs": [
    {
     "data": {
      "text/plain": [
       "Index(['comment', '선호도', '비속어', '성', '정치', '국가', '인종', '지역', '세대', '사회계층',\n",
       "       '외모', '기타'],\n",
       "      dtype='object')"
      ]
     },
     "execution_count": 48,
     "metadata": {},
     "output_type": "execute_result"
    }
   ],
   "source": [
    "df.columns"
   ]
  },
  {
   "cell_type": "code",
   "execution_count": 50,
   "id": "0bb99f48",
   "metadata": {},
   "outputs": [
    {
     "data": {
      "image/png": "[encoded data removed]",
      "text/plain": [
       "<Figure size 1000x800 with 1 Axes>"
      ]
     },
     "metadata": {},
     "output_type": "display_data"
    }
   ],
   "source": [
    "# 데이터 칼럼 이름과 데이터 개수\n",
    "column_names = df.columns[3:]\n",
    "\n",
    "# 플롯 크기 조절\n",
    "plt.figure(figsize=(10, 8))\n",
    "\n",
    "# 원형 히스토그램 그리기\n",
    "plt.pie(df[column_names].sum(), labels=column_names, autopct='%1.1f%%', startangle=140)\n",
    "plt.axis('equal')  # 원형을 유지하기 위해 설정\n",
    "plt.title('Bias Distribution')\n",
    "\n",
    "# 그래프 표시\n",
    "plt.show()"
   ]
  }
 ],
 "metadata": {
  "kernelspec": {
   "display_name": "Python 3 (ipykernel)",
   "language": "python",
   "name": "python3"
  },
  "language_info": {
   "codemirror_mode": {
    "name": "ipython",
    "version": 3
   },
   "file_extension": ".py",
   "mimetype": "text/x-python",
   "name": "python",
   "nbconvert_exporter": "python",
   "pygments_lexer": "ipython3",
   "version": "3.10.9"
  }
 },
 "nbformat": 4,
 "nbformat_minor": 5
}
